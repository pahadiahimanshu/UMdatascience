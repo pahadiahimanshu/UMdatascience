{
 "cells": [
  {
   "cell_type": "markdown",
   "metadata": {},
   "source": [
    "# Merging DataFrames\n",
    "- Merging them horizontally\n",
    "- Concatenating them vertically"
   ]
  },
  {
   "cell_type": "markdown",
   "metadata": {},
   "source": [
    "## Outer join and Inner join\n",
    "- Outer - Union\n",
    "- Inner - Intersection"
   ]
  },
  {
   "cell_type": "code",
   "execution_count": 2,
   "metadata": {},
   "outputs": [],
   "source": [
    "import pandas as pd"
   ]
  },
  {
   "cell_type": "code",
   "execution_count": 3,
   "metadata": {},
   "outputs": [
    {
     "name": "stdout",
     "output_type": "stream",
     "text": [
      "                 Role\n",
      "Name                 \n",
      "Kelly  Director of HR\n",
      "Sally  Course Liasion\n",
      "James          Grader\n",
      "            School\n",
      "Name              \n",
      "Mike           Law\n",
      "Sally  Engineering\n",
      "James     Business\n"
     ]
    }
   ],
   "source": [
    "staff_df = pd.DataFrame([{'Name':'Kelly', 'Role':'Director of HR'},\n",
    "                        {'Name':'Sally', 'Role':'Course Liasion'},\n",
    "                        {'Name':'James', 'Role':'Grader'}])\n",
    "\n",
    "staff_df = staff_df.set_index('Name')\n",
    "\n",
    "student_df = pd.DataFrame([{'Name':'Mike', 'School':'Law'},\n",
    "                        {'Name':'Sally', 'School':'Engineering'},\n",
    "                        {'Name':'James', 'School':'Business'}])\n",
    "student_df = student_df.set_index('Name')\n",
    "print(staff_df)\n",
    "print(student_df)"
   ]
  },
  {
   "cell_type": "code",
   "execution_count": null,
   "metadata": {},
   "outputs": [],
   "source": [
    "pd.merge(staff_df,student_df,how='outer',left_index=True,right_index=True)"
   ]
  }
 ],
 "metadata": {
  "kernelspec": {
   "display_name": "Python 3",
   "language": "python",
   "name": "python3"
  },
  "language_info": {
   "codemirror_mode": {
    "name": "ipython",
    "version": 3
   },
   "file_extension": ".py",
   "mimetype": "text/x-python",
   "name": "python",
   "nbconvert_exporter": "python",
   "pygments_lexer": "ipython3",
   "version": "3.7.3"
  }
 },
 "nbformat": 4,
 "nbformat_minor": 4
}
